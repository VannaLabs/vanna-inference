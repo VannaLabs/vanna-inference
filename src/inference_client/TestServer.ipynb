{
 "cells": [
  {
   "cell_type": "code",
   "execution_count": 8,
   "id": "b10f3bb6",
   "metadata": {},
   "outputs": [],
   "source": [
    "import grpc\n",
    "import sys\n",
    "from concurrent import futures\n",
    "import inference_pb2_grpc \n",
    "import onnx\n",
    "import onnxruntime\n",
    "import numpy as np\n",
    "import inference_pb2 \n",
    "import ezkl\n",
    "import ast\n",
    "import config\n",
    "import ecdsa\n",
    "from ecdsa.keys import SigningKey, VerifyingKey\n",
    "import hashlib"
   ]
  },
  {
   "cell_type": "code",
   "execution_count": 2,
   "id": "e61d5840",
   "metadata": {},
   "outputs": [],
   "source": [
    "class InferenceServer(inference_pb2_grpc.InferenceServicer):\n",
    "    def RunInference(self, inferenceParams, context):\n",
    "        results = self.Infer(inferenceParams.modelHash, inferenceParams.modelInput)\n",
    "        return inference_pb2.InferenceResult(tx=inferenceParams.tx, node=inferenceParams.modelHash, value=str(results))\n",
    "    \n",
    "    def Infer(self, modelHash, modelInput):\n",
    "        session = onnxruntime.InferenceSession(modelHash)\n",
    "        results = session.run(curateOutputs(session), curateInputs(session, modelInput))[-1]\n",
    "        return results[0][0]"
   ]
  },
  {
   "cell_type": "code",
   "execution_count": 9,
   "id": "7614e051",
   "metadata": {},
   "outputs": [],
   "source": [
    "def serve(port, maxWorkers):\n",
    "    server = grpc.server(futures.ThreadPoolExecutor(max_workers=maxWorkers))\n",
    "    inference_pb2_grpc.add_InferenceServicer_to_server(InferenceServer(), server)\n",
    "    server.add_insecure_port(\"[::]:\" + str(port))\n",
    "    server.start()\n",
    "    server.wait_for_termination()\n",
    "    \n",
    "def parseInput(modelInput, typeString):\n",
    "    if \"tensor\" in typeString:\n",
    "        if \"float\" in typeString:\n",
    "            return onnxruntime.OrtValue.ortvalue_from_numpy(np.array([modelInput]).astype(\"float32\"))\n",
    "        if \"string\" in typeString:\n",
    "            return onnxruntime.OrtValue.ortvalue_from_numpy(np.array([modelInput]).astype(\"string\"))\n",
    "\n",
    "def curateInputs(session, modelInput):\n",
    "    inputs = {}\n",
    "    sessionInputs = session.get_inputs()\n",
    "    for i in range(0, len(sessionInputs)):\n",
    "        param = ast.literal_eval(modelInput)[i]\n",
    "        inputs[sessionInputs[i].name] = parseInput(param, sessionInputs[i].type)\n",
    "    return inputs\n",
    "\n",
    "def curateOutputs(session):\n",
    "    outputs = []\n",
    "    for o in session.get_outputs():\n",
    "        outputs.append(o.name)\n",
    "    return outputs\n",
    "\n",
    "def sign(private_key):\n",
    "    signing_key = ecdsa.SigningKey.from_string(private_key, curve=ecdsa.SECP256k1)"
   ]
  },
  {
   "cell_type": "code",
   "execution_count": 5,
   "id": "c1317305",
   "metadata": {},
   "outputs": [
    {
     "name": "stderr",
     "output_type": "stream",
     "text": [
      "ERROR:root:Internal Python error in the inspect module.\n",
      "Below is the traceback from this internal error.\n",
      "\n"
     ]
    },
    {
     "name": "stdout",
     "output_type": "stream",
     "text": [
      "Traceback (most recent call last):\n",
      "  File \"/Library/Frameworks/Python.framework/Versions/3.8/lib/python3.8/site-packages/IPython/core/interactiveshell.py\", line 3331, in run_code\n",
      "    exec(code_obj, self.user_global_ns, self.user_ns)\n",
      "  File \"<ipython-input-5-9626c6f82927>\", line 1, in <module>\n",
      "    serve(port=5125, maxWorkers=100)\n",
      "  File \"<ipython-input-3-dea5067263b6>\", line 6, in serve\n",
      "    server.wait_for_termination()\n",
      "  File \"/Library/Frameworks/Python.framework/Versions/3.8/lib/python3.8/site-packages/grpc/_server.py\", line 1118, in wait_for_termination\n",
      "    return _common.wait(self._state.termination_event.wait,\n",
      "  File \"/Library/Frameworks/Python.framework/Versions/3.8/lib/python3.8/site-packages/grpc/_common.py\", line 150, in wait\n",
      "    _wait_once(wait_fn, MAXIMUM_WAIT_TIMEOUT, spin_cb)\n",
      "  File \"/Library/Frameworks/Python.framework/Versions/3.8/lib/python3.8/site-packages/grpc/_common.py\", line 112, in _wait_once\n",
      "    wait_fn(timeout=timeout)\n",
      "  File \"/Library/Frameworks/Python.framework/Versions/3.8/lib/python3.8/threading.py\", line 558, in wait\n",
      "    signaled = self._cond.wait(timeout)\n",
      "  File \"/Library/Frameworks/Python.framework/Versions/3.8/lib/python3.8/threading.py\", line 306, in wait\n",
      "    gotit = waiter.acquire(True, timeout)\n",
      "KeyboardInterrupt\n",
      "\n",
      "During handling of the above exception, another exception occurred:\n",
      "\n",
      "Traceback (most recent call last):\n",
      "  File \"/Library/Frameworks/Python.framework/Versions/3.8/lib/python3.8/site-packages/IPython/core/interactiveshell.py\", line 2044, in showtraceback\n",
      "    stb = value._render_traceback_()\n",
      "AttributeError: 'KeyboardInterrupt' object has no attribute '_render_traceback_'\n",
      "\n",
      "During handling of the above exception, another exception occurred:\n",
      "\n",
      "Traceback (most recent call last):\n",
      "  File \"/Library/Frameworks/Python.framework/Versions/3.8/lib/python3.8/site-packages/IPython/core/ultratb.py\", line 1148, in get_records\n",
      "    return _fixed_getinnerframes(etb, number_of_lines_of_context, tb_offset)\n",
      "  File \"/Library/Frameworks/Python.framework/Versions/3.8/lib/python3.8/site-packages/IPython/core/ultratb.py\", line 316, in wrapped\n",
      "    return f(*args, **kwargs)\n",
      "  File \"/Library/Frameworks/Python.framework/Versions/3.8/lib/python3.8/site-packages/IPython/core/ultratb.py\", line 350, in _fixed_getinnerframes\n",
      "    records = fix_frame_records_filenames(inspect.getinnerframes(etb, context))\n",
      "  File \"/Library/Frameworks/Python.framework/Versions/3.8/lib/python3.8/inspect.py\", line 1503, in getinnerframes\n",
      "    frameinfo = (tb.tb_frame,) + getframeinfo(tb, context)\n",
      "  File \"/Library/Frameworks/Python.framework/Versions/3.8/lib/python3.8/inspect.py\", line 1461, in getframeinfo\n",
      "    filename = getsourcefile(frame) or getfile(frame)\n",
      "  File \"/Library/Frameworks/Python.framework/Versions/3.8/lib/python3.8/inspect.py\", line 708, in getsourcefile\n",
      "    if getattr(getmodule(object, filename), '__loader__', None) is not None:\n",
      "  File \"/Library/Frameworks/Python.framework/Versions/3.8/lib/python3.8/inspect.py\", line 754, in getmodule\n",
      "    os.path.realpath(f)] = module.__name__\n",
      "  File \"/Library/Frameworks/Python.framework/Versions/3.8/lib/python3.8/posixpath.py\", line 391, in realpath\n",
      "    path, ok = _joinrealpath(filename[:0], filename, {})\n",
      "  File \"/Library/Frameworks/Python.framework/Versions/3.8/lib/python3.8/posixpath.py\", line 425, in _joinrealpath\n",
      "    if not islink(newpath):\n",
      "  File \"/Library/Frameworks/Python.framework/Versions/3.8/lib/python3.8/posixpath.py\", line 167, in islink\n",
      "    st = os.lstat(path)\n",
      "KeyboardInterrupt\n"
     ]
    },
    {
     "ename": "KeyboardInterrupt",
     "evalue": "",
     "output_type": "error",
     "traceback": [
      "\u001b[0;31m---------------------------------------------------------------------------\u001b[0m"
     ]
    }
   ],
   "source": [
    "serve(config.port=5125, config.maxWorkers=100)"
   ]
  }
 ],
 "metadata": {
  "kernelspec": {
   "display_name": "Python 3",
   "language": "python",
   "name": "python3"
  },
  "language_info": {
   "codemirror_mode": {
    "name": "ipython",
    "version": 3
   },
   "file_extension": ".py",
   "mimetype": "text/x-python",
   "name": "python",
   "nbconvert_exporter": "python",
   "pygments_lexer": "ipython3",
   "version": "3.8.2"
  }
 },
 "nbformat": 4,
 "nbformat_minor": 5
}
