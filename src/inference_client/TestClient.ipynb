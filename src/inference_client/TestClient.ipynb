{
 "cells": [
  {
   "cell_type": "code",
   "execution_count": 6,
   "id": "7b60eb6f",
   "metadata": {},
   "outputs": [],
   "source": [
    "import grpc\n",
    "import sys\n",
    "import inference_pb2_grpc as pb2_grpc\n",
    "import inference_pb2 as pb2"
   ]
  },
  {
   "cell_type": "code",
   "execution_count": 10,
   "id": "f32f5f96",
   "metadata": {},
   "outputs": [],
   "source": [
    "# Compile proto3 file\n",
    "# python3 -m grpc_tools.protoc --proto_path=. ./inference.proto --python_out=. --grpc_python_out=."
   ]
  },
  {
   "cell_type": "code",
   "execution_count": 11,
   "id": "003941c6",
   "metadata": {},
   "outputs": [],
   "source": [
    "class TestClient(object):\n",
    "    \"\"\"\n",
    "    Client for testing inference gRPC\n",
    "    \"\"\"\n",
    "\n",
    "    def __init__(self):\n",
    "        #self.host = '3.139.238.241'\n",
    "        self.host = 'localhost'\n",
    "        self.server_port = 5125\n",
    "\n",
    "        # instantiate a channel\n",
    "        self.channel = grpc.insecure_channel(\n",
    "            '{}:{}'.format(self.host, self.server_port))\n",
    "\n",
    "        # bind the client and the server\n",
    "        self.stub = pb2_grpc.InferenceStub(self.channel)\n",
    "\n",
    "    def send(self, tx, modelHash, modelInput):\n",
    "        \"\"\"\n",
    "        Client function to call the rpc for inference\n",
    "        \"\"\"\n",
    "        message = pb2.InferenceParameters(tx=tx, modelHash=modelHash, modelInput = modelInput)\n",
    "        print(f'{message}')\n",
    "        return self.stub.RunInference(message)\n",
    "\n",
    "def testLinearModel():\n",
    "    client = TestClient()\n",
    "    result = client.send(tx = \"0x123\", modelHash=\"LinearTest\", modelInput=\"[[1.0, 2.0, 3.0], [2.5, 3.5, 4.5]]\")\n",
    "    print(f'{result}')\n",
    "\n",
    "def testVolatilityModel():\n",
    "    client = TestClient()\n",
    "    result = client.send(tx = \"0x123\", modelHash=\"Volatility\", modelInput=\"[[0.03],[0.05],[0.04056685],[0.03235871],[0.05629578]]\")\n",
    "    print(f'{result}')\n"
   ]
  },
  {
   "cell_type": "code",
   "execution_count": 12,
   "id": "d411d87f",
   "metadata": {},
   "outputs": [
    {
     "name": "stdout",
     "output_type": "stream",
     "text": [
      "tx: \"0x123\"\n",
      "modelHash: \"LinearTest\"\n",
      "modelInput: \"[[1.0, 2.0, 3.0], [2.5, 3.5, 4.5]]\"\n",
      "\n",
      "tx: \"0x123\"\n",
      "node: \"0x12345678910\"\n",
      "value: \"[17,26]\"\n",
      "\n"
     ]
    }
   ],
   "source": [
    "testLinearModel()"
   ]
  },
  {
   "cell_type": "code",
   "execution_count": 13,
   "id": "c1cb0788",
   "metadata": {},
   "outputs": [
    {
     "name": "stdout",
     "output_type": "stream",
     "text": [
      "tx: \"0x123\"\n",
      "modelHash: \"Volatility\"\n",
      "modelInput: \"[[0.03],[0.05],[0.04056685],[0.03235871],[0.05629578]]\"\n",
      "\n",
      "tx: \"0x123\"\n",
      "node: \"0x12345678910\"\n",
      "value: \"0.053176194\"\n",
      "\n"
     ]
    }
   ],
   "source": [
    "testVolatilityModel()"
   ]
  },
  {
   "cell_type": "code",
   "execution_count": null,
   "id": "0bf89bc4",
   "metadata": {},
   "outputs": [],
   "source": []
  }
 ],
 "metadata": {
  "kernelspec": {
   "display_name": "Python 3",
   "language": "python",
   "name": "python3"
  },
  "language_info": {
   "codemirror_mode": {
    "name": "ipython",
    "version": 3
   },
   "file_extension": ".py",
   "mimetype": "text/x-python",
   "name": "python",
   "nbconvert_exporter": "python",
   "pygments_lexer": "ipython3",
   "version": "3.8.2"
  }
 },
 "nbformat": 4,
 "nbformat_minor": 5
}
