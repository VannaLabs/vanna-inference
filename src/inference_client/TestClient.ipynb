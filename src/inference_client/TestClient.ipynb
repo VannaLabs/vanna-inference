{
 "cells": [
  {
   "cell_type": "code",
   "execution_count": 1,
   "id": "7b60eb6f",
   "metadata": {},
   "outputs": [],
   "source": [
    "import grpc\n",
    "import sys\n",
    "import inference_pb2_grpc as pb2_grpc\n",
    "import inference_pb2 as pb2"
   ]
  },
  {
   "cell_type": "code",
   "execution_count": 124,
   "id": "003941c6",
   "metadata": {},
   "outputs": [],
   "source": [
    "class TestClient(object):\n",
    "    \"\"\"\n",
    "    Client for testing inference gRPC\n",
    "    \"\"\"\n",
    "\n",
    "    def __init__(self):\n",
    "        self.host = 'localhost'\n",
    "        self.server_port = 5125\n",
    "\n",
    "        # instantiate a channel\n",
    "        self.channel = grpc.insecure_channel(\n",
    "            '{}:{}'.format(self.host, self.server_port))\n",
    "\n",
    "        # bind the client and the server\n",
    "        self.stub = pb2_grpc.InferenceStub(self.channel)\n",
    "\n",
    "    def send(self, modelHash, modelInput):\n",
    "        \"\"\"\n",
    "        Client function to call the rpc for inference\n",
    "        \"\"\"\n",
    "        message = pb2.InferenceParameters(modelHash=modelHash, modelInput = modelInput)\n",
    "        print(f'{message}')\n",
    "        return self.stub.RunInference(message)\n",
    "\n",
    "def testLinearModel():\n",
    "    client = TestClient()\n",
    "    result = client.send(modelHash=\"LinearTest\", modelInput=\"[[1.0, 2.0, 3.0], [2.5, 3.5, 4.5]]\")\n",
    "    print(f'{result}')\n",
    "\n",
    "def testVolatilityModel():\n",
    "    client = TestClient()\n",
    "    result = client.send(modelHash=\"Volatility\", modelInput=\"[[0.06219665],[0.02530899],[0.04056685],[0.03235871],[0.05629578]]\")\n",
    "    print(f'{result}')\n"
   ]
  },
  {
   "cell_type": "code",
   "execution_count": 125,
   "id": "d411d87f",
   "metadata": {},
   "outputs": [
    {
     "name": "stdout",
     "output_type": "stream",
     "text": [
      "modelHash: \"LinearTest\"\n",
      "modelInput: \"[[1.0, 2.0, 3.0], [2.5, 3.5, 4.5]]\"\n",
      "\n",
      "value: \"[17,26]\"\n",
      "\n"
     ]
    }
   ],
   "source": [
    "testLinearModel()"
   ]
  },
  {
   "cell_type": "code",
   "execution_count": 126,
   "id": "c1cb0788",
   "metadata": {},
   "outputs": [
    {
     "name": "stdout",
     "output_type": "stream",
     "text": [
      "modelHash: \"Volatility\"\n",
      "modelInput: \"[[0.06219665],[0.02530899],[0.04056685],[0.03235871],[0.05629578]]\"\n",
      "\n",
      "value: \"0.04591319\"\n",
      "\n"
     ]
    }
   ],
   "source": [
    "testVolatilityModel()"
   ]
  },
  {
   "cell_type": "code",
   "execution_count": null,
   "id": "0bf89bc4",
   "metadata": {},
   "outputs": [],
   "source": []
  }
 ],
 "metadata": {
  "kernelspec": {
   "display_name": "Python 3",
   "language": "python",
   "name": "python3"
  },
  "language_info": {
   "codemirror_mode": {
    "name": "ipython",
    "version": 3
   },
   "file_extension": ".py",
   "mimetype": "text/x-python",
   "name": "python",
   "nbconvert_exporter": "python",
   "pygments_lexer": "ipython3",
   "version": "3.8.2"
  }
 },
 "nbformat": 4,
 "nbformat_minor": 5
}
